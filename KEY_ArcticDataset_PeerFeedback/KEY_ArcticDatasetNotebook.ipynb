{
 "cells": [
  {
   "cell_type": "markdown",
   "id": "4fa733c6-12b5-4e32-9cb0-6202f8d1ffc5",
   "metadata": {},
   "source": [
    "# Arctic Dataset Notebook\n",
    "\n",
    "The dataset was found [here](https://github.com/big-data-lab-umbc/sea-ice-prediction) and the screenshot of feature significance came from an article found [here](https://s3.us-east-1.amazonaws.com/climate-change-ai/papers/icml2021/50/paper.pdf).\n",
    "\n",
    "**MLA citation:** `Ali, Sahara, et al. \"Sea Ice Forecasting using Attention-based Ensemble LSTM.\" arXiv preprint arXiv:2108.00853 (2021).`"
   ]
  },
  {
   "cell_type": "markdown",
   "id": "f0fd3b33-1204-4d74-8d9e-3adcace17eaf",
   "metadata": {},
   "source": [
    "### 0 Setup\n",
    "\n",
    "For help, type `hint(x)`, replacing x with section number"
   ]
  },
  {
   "cell_type": "code",
   "execution_count": 4,
   "id": "6da8b091-dcd7-4375-9256-4e7c7802e585",
   "metadata": {},
   "outputs": [],
   "source": [
    "# Run this cell\n",
    "import matplotlib.pyplot as plt\n",
    "import datascience as ds\n",
    "import numpy as np\n",
    "from IPython.lib.display import YouTubeVideo\n",
    "from Hints.hints import hint"
   ]
  },
  {
   "cell_type": "markdown",
   "id": "8cea2a7d-f502-429d-b66b-7944b12f5e41",
   "metadata": {},
   "source": [
    "### 1 Background\n",
    "Learn about the context of the arctic data (provided in the `Data` folder)."
   ]
  },
  {
   "cell_type": "code",
   "execution_count": null,
   "id": "4ba383a5-16f0-4823-b609-37d3bedb4933",
   "metadata": {},
   "outputs": [],
   "source": [
    "# Run this cell\n",
    "YouTubeVideo(\"V4lwQcho1No\")"
   ]
  },
  {
   "cell_type": "markdown",
   "id": "ddcdbeab-f96d-4fd4-ac8c-60065216351f",
   "metadata": {},
   "source": [
    "The video explores three fundamental topics, in chronological order:\n",
    "1. Using primarily satelites and weather stations, arctic environmental variables are measured and recorded\n",
    "2. These data can be used to predict future sea ice extent \n",
    "3. Predictions can help drive change in the future to preserve arctic sea ice and affected ecosystems\n",
    "\n",
    "In the dataset provided, sea ice extent is a **target variable**. There are 10 **features** (the meaning of the features can be found [here](Data/features.png))."
   ]
  },
  {
   "cell_type": "markdown",
   "id": "5d816850-385d-497e-861b-f570bcc9a70e",
   "metadata": {},
   "source": [
    "### 2 Load data\n",
    "\n",
    "- Load data into `full_data`. \n",
    "- Load the names of the features into `features_list`. Print `features_list`."
   ]
  },
  {
   "cell_type": "code",
   "execution_count": 28,
   "id": "7b175886-fa6c-4670-8633-03b60483eb9d",
   "metadata": {},
   "outputs": [
    {
     "data": {
      "text/plain": [
       "['wind_10m',\n",
       " 'specific_humidity',\n",
       " 'LW_down',\n",
       " 'SW_down',\n",
       " 'rainfall',\n",
       " 'snowfall',\n",
       " 'sosaline',\n",
       " 'sst',\n",
       " 't2m',\n",
       " 'surface_pressure']"
      ]
     },
     "execution_count": 28,
     "metadata": {},
     "output_type": "execute_result"
    }
   ],
   "source": [
    "full_data = ds.Table().read_table(\"Data/Arctic_domain_mean_1979_2018.csv\")\n",
    "features_list = list(full_data.labels[2:12])\n",
    "features_list"
   ]
  },
  {
   "cell_type": "markdown",
   "id": "ac198ac9-cfc6-445a-98e3-16bddadfdd18",
   "metadata": {},
   "source": [
    "### 3 Data pre-processing\n",
    "\n",
    "- Create a new table, called `yearly_data`, where each row contains averaged feature data over one year. Display the first 4 rows of the table."
   ]
  },
  {
   "cell_type": "code",
   "execution_count": 25,
   "id": "55ff6a14-68d2-4cfe-9a8b-c988350192ed",
   "metadata": {},
   "outputs": [
    {
     "data": {
      "text/html": [
       "<table border=\"1\" class=\"dataframe\">\n",
       "    <thead>\n",
       "        <tr>\n",
       "            <th>year</th> <th>wind_10m</th> <th>specific_humidity</th> <th>LW_down</th> <th>SW_down</th> <th>rainfall</th> <th>snowfall</th> <th>sosaline</th> <th>sst</th> <th>t2m</th>\n",
       "        </tr>\n",
       "    </thead>\n",
       "    <tbody>\n",
       "        <tr>\n",
       "            <td>1979</td> <td>5.07764 </td> <td>2.21866          </td> <td>237.497</td> <td>96.3341</td> <td>1.34656 </td> <td>0.70885 </td> <td>33.2524 </td> <td>274.36 </td> <td>263.532</td>\n",
       "        </tr>\n",
       "        <tr>\n",
       "            <td>1980</td> <td>5.12035 </td> <td>2.24572          </td> <td>239.288</td> <td>96.7265</td> <td>1.28481 </td> <td>0.695901</td> <td>33.2624 </td> <td>274.489</td> <td>264.163</td>\n",
       "        </tr>\n",
       "        <tr>\n",
       "            <td>1981</td> <td>5.18837 </td> <td>2.30067          </td> <td>243.107</td> <td>96.0786</td> <td>1.39369 </td> <td>0.760159</td> <td>33.246  </td> <td>274.363</td> <td>264.963</td>\n",
       "        </tr>\n",
       "        <tr>\n",
       "            <td>1982</td> <td>5.1452  </td> <td>2.19611          </td> <td>237.621</td> <td>97.6215</td> <td>1.36295 </td> <td>0.738999</td> <td>33.2725 </td> <td>274.287</td> <td>263.673</td>\n",
       "        </tr>\n",
       "    </tbody>\n",
       "</table>\n",
       "<p>... (36 rows omitted)</p>"
      ],
      "text/plain": [
       "<IPython.core.display.HTML object>"
      ]
     },
     "metadata": {},
     "output_type": "display_data"
    }
   ],
   "source": [
    "yearly_data = ds.Table([\"year\"] + features_list)\n",
    "for year in range(min(full_data.column(\"Year\")), max(full_data.column(\"Year\")) + 1):\n",
    "    averages_array = []\n",
    "    for feature in features_list:\n",
    "        averages_array.append(sum(full_data.where(\"Year\", ds.are.equal_to(year)).column(feature)) / len(full_data.where(\"Year\", ds.are.equal_to(year)).column(feature)))\n",
    "    yearly_data = yearly_data.with_row([year] + averages_array)\n",
    "    averages_array = []\n",
    "yearly_data.show(4)"
   ]
  },
  {
   "cell_type": "markdown",
   "id": "a7c838ad-8f76-40cf-b7d3-f114b515725c",
   "metadata": {},
   "source": [
    "### 4 Graph trends\n",
    "\n",
    "- Graph `sst`, where `year` is the independent variable.\n",
    "- Add a linear trendline for `sst`.\n",
    "- Display the equation of the trendline as the title of the plot.\n",
    "- Save the graph in the `Graphs` folder. "
   ]
  },
  {
   "cell_type": "code",
   "execution_count": 27,
   "id": "06ee9dab-1773-4e8a-a450-a0e0ea7935e8",
   "metadata": {},
   "outputs": [],
   "source": [
    "full_data_avg.plot(\"year\", \"sst\")\n",
    "x = full_data_avg.column(\"year\")\n",
    "y = full_data_avg.column(\"sst\")\n",
    "z = np.polyfit(x, y, 1)\n",
    "p = np.poly1d(z)\n",
    "plt.plot(x,p(x),\"r--\")\n",
    "plt.title(\"y=\" + str(round(z[0], 6)) + \"x + \" + str(round(z[1], 6)))\n",
    "plt.savefig(\"Graphs/sst.png\")"
   ]
  },
  {
   "cell_type": "markdown",
   "id": "ceb8d188-e0f7-45cd-a128-313d638c32ca",
   "metadata": {},
   "source": [
    "### 5 Interpretation\n",
    "\n",
    "What trends are present in the graph? What insights can you take away from this model? What may be the cause of the trend?"
   ]
  },
  {
   "cell_type": "markdown",
   "id": "173c3e50-9069-4aa5-911e-953b0ef6bbff",
   "metadata": {},
   "source": []
  }
 ],
 "metadata": {
  "kernelspec": {
   "display_name": "Python 3 (ipykernel)",
   "language": "python",
   "name": "python3"
  },
  "language_info": {
   "codemirror_mode": {
    "name": "ipython",
    "version": 3
   },
   "file_extension": ".py",
   "mimetype": "text/x-python",
   "name": "python",
   "nbconvert_exporter": "python",
   "pygments_lexer": "ipython3",
   "version": "3.9.6"
  }
 },
 "nbformat": 4,
 "nbformat_minor": 5
}
