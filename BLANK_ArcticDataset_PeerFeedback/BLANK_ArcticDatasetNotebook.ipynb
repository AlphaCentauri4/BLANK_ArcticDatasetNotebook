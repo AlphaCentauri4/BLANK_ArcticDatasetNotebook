{
 "cells": [
  {
   "cell_type": "markdown",
   "id": "4fa733c6-12b5-4e32-9cb0-6202f8d1ffc5",
   "metadata": {},
   "source": [
    "# Arctic Dataset Notebook\n",
    "\n",
    "The dataset was found [here](https://github.com/big-data-lab-umbc/sea-ice-prediction) and the screenshot of feature significance came from an article found [here](https://s3.us-east-1.amazonaws.com/climate-change-ai/papers/icml2021/50/paper.pdf).\n",
    "\n",
    "**MLA citation:** `Ali, Sahara, et al. \"Sea Ice Forecasting using Attention-based Ensemble LSTM.\" arXiv preprint arXiv:2108.00853 (2021).`"
   ]
  },
  {
   "cell_type": "markdown",
   "id": "f0fd3b33-1204-4d74-8d9e-3adcace17eaf",
   "metadata": {},
   "source": [
    "### 0 Setup\n",
    "\n",
    "For help, type `hint(x)`, replacing x with section number"
   ]
  },
  {
   "cell_type": "code",
   "execution_count": 1,
   "id": "6da8b091-dcd7-4375-9256-4e7c7802e585",
   "metadata": {},
   "outputs": [],
   "source": [
    "# Run this cell\n",
    "import matplotlib.pyplot as plt\n",
    "import datascience as ds\n",
    "import numpy as np\n",
    "from IPython.lib.display import YouTubeVideo\n",
    "from Hints.hints import hint"
   ]
  },
  {
   "cell_type": "markdown",
   "id": "8cea2a7d-f502-429d-b66b-7944b12f5e41",
   "metadata": {},
   "source": [
    "### 1 Background\n",
    "Learn about the context of the arctic data (provided in the `Data` folder)."
   ]
  },
  {
   "cell_type": "code",
   "execution_count": null,
   "id": "4ba383a5-16f0-4823-b609-37d3bedb4933",
   "metadata": {},
   "outputs": [],
   "source": [
    "# Run this cell\n",
    "YouTubeVideo(\"V4lwQcho1No\")"
   ]
  },
  {
   "cell_type": "markdown",
   "id": "ddcdbeab-f96d-4fd4-ac8c-60065216351f",
   "metadata": {},
   "source": [
    "The video explores three fundamental topics, in chronological order:\n",
    "1. Using primarily satelites and weather stations, arctic environmental variables are measured and recorded\n",
    "2. These data can be used to predict future sea ice extent \n",
    "3. Predictions can help drive change in the future to preserve arctic sea ice and affected ecosystems\n",
    "\n",
    "In the dataset provided, sea ice extent is a **target variable**. There are 10 **features** (the meaning of the features can be found [here](Data/features.png))."
   ]
  },
  {
   "cell_type": "markdown",
   "id": "5d816850-385d-497e-861b-f570bcc9a70e",
   "metadata": {},
   "source": [
    "### 2 Load data\n",
    "\n",
    "- Load data into `full_data`. \n",
    "- Load the names of the features into `features_list`. Print `features_list`."
   ]
  },
  {
   "cell_type": "code",
   "execution_count": null,
   "id": "ecbc3411-0649-4e42-8e43-f65d350b509f",
   "metadata": {},
   "outputs": [],
   "source": [
    "full_data = ...\n",
    "features_list = ...\n",
    "features_list"
   ]
  },
  {
   "cell_type": "markdown",
   "id": "ac198ac9-cfc6-445a-98e3-16bddadfdd18",
   "metadata": {},
   "source": [
    "### 3 Data pre-processing\n",
    "\n",
    "- Create a new table, called `yearly_data`, where each row contains averaged feature data over one year. Display the first 4 rows of the table."
   ]
  },
  {
   "cell_type": "code",
   "execution_count": null,
   "id": "5f419b50-1d0e-45af-bae7-7b0cd2970f7b",
   "metadata": {},
   "outputs": [],
   "source": [
    "..."
   ]
  },
  {
   "cell_type": "markdown",
   "id": "a7c838ad-8f76-40cf-b7d3-f114b515725c",
   "metadata": {},
   "source": [
    "### 4 Graph trends\n",
    "\n",
    "- Graph `sst`, where `year` is the independent variable.\n",
    "- Add a linear trendline for `sst`.\n",
    "- Display the equation of the trendline as the title of the plot.\n",
    "- Save the graph in the `Graphs` folder. "
   ]
  },
  {
   "cell_type": "code",
   "execution_count": null,
   "id": "06ee9dab-1773-4e8a-a450-a0e0ea7935e8",
   "metadata": {},
   "outputs": [],
   "source": [
    "..."
   ]
  }
 ],
 "metadata": {
  "kernelspec": {
   "display_name": "Python 3 (ipykernel)",
   "language": "python",
   "name": "python3"
  },
  "language_info": {
   "codemirror_mode": {
    "name": "ipython",
    "version": 3
   },
   "file_extension": ".py",
   "mimetype": "text/x-python",
   "name": "python",
   "nbconvert_exporter": "python",
   "pygments_lexer": "ipython3",
   "version": "3.9.6"
  }
 },
 "nbformat": 4,
 "nbformat_minor": 5
}
